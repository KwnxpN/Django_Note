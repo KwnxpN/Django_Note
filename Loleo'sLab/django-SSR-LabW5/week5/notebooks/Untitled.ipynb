{
 "cells": [
  {
   "cell_type": "code",
   "execution_count": 1,
   "id": "71ceba29",
   "metadata": {},
   "outputs": [],
   "source": [
    "import os\n",
    "os.environ[\"DJANGO_ALLOW_ASYNC_UNSAFE\"] = \"true\""
   ]
  },
  {
   "cell_type": "code",
   "execution_count": 12,
   "id": "84c01330",
   "metadata": {
    "scrolled": true
   },
   "outputs": [
    {
     "data": {
      "text/plain": [
       "<Company: Company CCC>"
      ]
     },
     "execution_count": 12,
     "metadata": {},
     "output_type": "execute_result"
    }
   ],
   "source": [
    "from companies.models import *\n",
    "Company.objects.create(name=\"Company AAA\", num_employees=120, num_chairs=150, num_tables=60)\n",
    "Company.objects.create(name=\"Company BBB\", num_employees=50, num_chairs=30, num_tables=20)\n",
    "Company.objects.create(name=\"Company CCC\", num_employees=100, num_chairs=40, num_tables=40)"
   ]
  },
  {
   "cell_type": "code",
   "execution_count": 17,
   "id": "49f23df3",
   "metadata": {},
   "outputs": [
    {
     "data": {
      "text/plain": [
       "50"
      ]
     },
     "execution_count": 17,
     "metadata": {},
     "output_type": "execute_result"
    }
   ],
   "source": [
    ">>> from companies.models import Company\n",
    ">>> from django.db.models import Count, F, Value\n",
    ">>> from django.db.models.functions import Length, Upper\n",
    ">>> from django.db.models.lookups import GreaterThan\n",
    "\n",
    "# Find companies that have more employees than chairs.\n",
    ">>> Company.objects.filter(num_employees__gt=F(\"num_chairs\"))\n",
    "\n",
    "# Find companies that have at least twice as many employees as chairs.\n",
    ">>> Company.objects.filter(num_employees__gt=F(\"num_chairs\") * 2)\n",
    "\n",
    "# Find companies that have more employees than the number of chairs and tables combined.\n",
    ">>> Company.objects.filter(num_employees__gt=F(\"num_chairs\") + F(\"num_tables\"))\n",
    "\n",
    "# How many chairs are needed for each company to seat all employees?\n",
    ">>> company = (\n",
    "...     Company.objects.filter(num_employees__gt=F(\"num_chairs\"))\n",
    "...     .annotate(chairs_needed=F(\"num_employees\") - F(\"num_chairs\"))\n",
    "...     .first()\n",
    "... )\n",
    "company.num_employees\n",
    "# company.num_chairs\n",
    "# company.chairs_needed"
   ]
  },
  {
   "cell_type": "code",
   "execution_count": 39,
   "id": "5fa43b18",
   "metadata": {},
   "outputs": [
    {
     "name": "stdout",
     "output_type": "stream",
     "text": [
      "Company AAA150\n",
      "Company BBB30\n",
      "Company CCC40\n"
     ]
    }
   ],
   "source": [
    "from django.db.models import *\n",
    "from companies.models import Company\n",
    "from django.db.models.functions import *\n",
    "\n",
    "hello = Company.objects.annotate(details=Concat('name', Cast('num_chairs', output_field=CharField())))\n",
    "for i in hello:\n",
    "    print(i.details)"
   ]
  },
  {
   "cell_type": "code",
   "execution_count": null,
   "id": "3e3fefd9",
   "metadata": {},
   "outputs": [],
   "source": []
  }
 ],
 "metadata": {
  "kernelspec": {
   "display_name": "Django Shell-Plus",
   "language": "python",
   "name": "django_extensions"
  },
  "language_info": {
   "codemirror_mode": {
    "name": "ipython",
    "version": 3
   },
   "file_extension": ".py",
   "mimetype": "text/x-python",
   "name": "python",
   "nbconvert_exporter": "python",
   "pygments_lexer": "ipython3",
   "version": "3.13.5"
  }
 },
 "nbformat": 4,
 "nbformat_minor": 5
}
